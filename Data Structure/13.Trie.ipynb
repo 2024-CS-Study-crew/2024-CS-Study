{
 "cells": [
  {
   "cell_type": "markdown",
   "id": "53852edd-7e52-494a-9de4-e39d89a4dd8e",
   "metadata": {},
   "source": [
    "# 1. 트라이 Trie란?"
   ]
  },
  {
   "cell_type": "markdown",
   "id": "0b8656ad-3e44-460b-ba52-1bce259ab3ab",
   "metadata": {},
   "source": [
    "<img src=https://velog.velcdn.com/images%2Fkimdukbae%2Fpost%2F50497c5d-1598-48ad-b7cd-e60b2df366da%2Fimage.png>"
   ]
  },
  {
   "cell_type": "markdown",
   "id": "5cec11b0-c543-4eb1-8766-5fe4838a60e5",
   "metadata": {},
   "source": [
    "* 트라이 Trie: 트리의 형태로 문자열을 저장하고 탐색하는 자료구조\n",
    "* 검색을 뜻하는 Retrieval의 중간 음절에서 따와 Trie라고 불림"
   ]
  },
  {
   "cell_type": "markdown",
   "id": "275831b8-2134-4585-b3ab-eff17ba1741d",
   "metadata": {},
   "source": [
    "# 2. 작동 원리"
   ]
  },
  {
   "cell_type": "markdown",
   "id": "90d745ea-9e5a-497e-b22e-2ae2bc868b80",
   "metadata": {},
   "source": [
    "<img src= https://images.velog.io/images/klloo/post/ec2b6abb-c725-41cd-af6e-046a9ef5f000/image.png>"
   ]
  },
  {
   "cell_type": "markdown",
   "id": "49fd2959-f654-4867-b3f9-e642d9eb1e99",
   "metadata": {},
   "source": [
    "* 위의 그림은 문자열 집합 {\"rebro\", \"replay\", \"hi\" , \"high\", \"algo\"} 를 트라이로 구현한 것이다.\n",
    "* 트라이는 한 문자열에서 다음에 나오는 문자가 현재 문자의 자식 노드가 된다.\n",
    "* 빨간색으로 나타낸 리프노드는 문자열의 끝을 의미한다.\n",
    "* 루트에서부터 내려가는 경로에서 만나는 글자들을 모으면, 찾고자 하는 문자열의 접두사를 얻을 수 있다.\n",
    "    * r -> re 의 순서로 탐색되기 때문에 're'의 모든 접두사들을 탐색 가능\r\n"
   ]
  },
  {
   "cell_type": "markdown",
   "id": "b4149d2b-7180-4718-b618-7a462c99fe28",
   "metadata": {},
   "source": [
    "# 3. 장단점"
   ]
  },
  {
   "cell_type": "markdown",
   "id": "05200b85-c522-44f7-b6c4-1d29c3f41cf6",
   "metadata": {},
   "source": [
    "* 장점\n",
    "    * 문자열을 빠르게 탐색 가능\n",
    "    * 문자열 탐색 시, 하나씩 전부 비교하면서 탐색하는 것보다 시간 복잡도면에서 효율적이다\n",
    "* 단점\n",
    "    *  필요한 메모리가 크다\n",
    "    *  각 노드에서 자식들에 대한 포인터들을 배열로 모두 저장하고 있다는 점에서 저장 공간의 크기가 크다\n",
    "    *  문자열이 모두 알파벳 소문자로만 이루어진 경우라고 해도, 1 depth에 a~z까지 26개의 공간이 필요하게 된다.\n",
    "    *  <img src = https://images.velog.io/images/klloo/post/17f265d6-365d-417c-9418-bdfa49010c11/image.png>\n",
    "    * 이 단점을 해결하기 위해 보통 map이나 vector를 이용하여 필요한 노드만 메모리를 할당하는 방식들을 이용하는데, 문제에 따라서 메모리 제한이 적은 경우에는 최적화가 까다롭다."
   ]
  },
  {
   "cell_type": "markdown",
   "id": "c56991ef-ef54-4fb3-8c4c-44fa69650cea",
   "metadata": {},
   "source": [
    "# 4. 시간 복잡도"
   ]
  },
  {
   "cell_type": "markdown",
   "id": "66b379e2-7dc5-4956-97ca-56dad074dbbd",
   "metadata": {},
   "source": [
    "### 4-1. 배경\n",
    "* 이진 검색 트리 등에서 원소를 찾는데 O(logN)이 소요\n",
    "* 하지만 문자열의 경우 두 문자열을 비교하기 위해서는 문자열의 길이만큼 시간이 걸리기 때문에 문자열을 찾기 위해서는 O(MlogN)이 걸림\n",
    "* 이를 해결하기 위한 문자열 특화 자료구조가 Trie"
   ]
  },
  {
   "cell_type": "markdown",
   "id": "582e3174-484f-4463-8b40-6509a52699bf",
   "metadata": {},
   "source": [
    "### 4-2. 시간 복잡도\n",
    "* 제일 긴 문자열의 길이를 L 총 문자열들의 수를 M이라 할 때\n",
    "* 삽입: O(L)\n",
    "* 생성: O(M*L)\n",
    "    * 모든 문자열들을 넣어야하니 M개에 대해서 트라이 자료구조에 넣는건 가장 긴 문자열 길이만큼 걸리니 L만큼 걸림\n",
    "* 탐색: O(L)\n",
    "    * 가장 긴 문자열의 길이만큼 탐색"
   ]
  },
  {
   "cell_type": "code",
   "execution_count": null,
   "id": "1da72e94-7b12-4998-838e-8185eb8aebc2",
   "metadata": {},
   "outputs": [],
   "source": []
  }
 ],
 "metadata": {
  "kernelspec": {
   "display_name": "Python 3 (ipykernel)",
   "language": "python",
   "name": "python3"
  },
  "language_info": {
   "codemirror_mode": {
    "name": "ipython",
    "version": 3
   },
   "file_extension": ".py",
   "mimetype": "text/x-python",
   "name": "python",
   "nbconvert_exporter": "python",
   "pygments_lexer": "ipython3",
   "version": "3.10.11"
  }
 },
 "nbformat": 4,
 "nbformat_minor": 5
}
